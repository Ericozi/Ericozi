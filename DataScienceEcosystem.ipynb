{
 "cells": [
  {
   "cell_type": "markdown",
   "id": "2160cebb-1d59-4550-9334-7c7b112862b2",
   "metadata": {},
   "source": [
    "# Data Science Tools and Ecosystem"
   ]
  },
  {
   "cell_type": "markdown",
   "id": "b77fa2b8-f4cd-49c5-877d-884a94ecdf89",
   "metadata": {},
   "source": [
    "#### In this notebook, Data Science Tools and Ecosystem are summarized."
   ]
  },
  {
   "cell_type": "markdown",
   "id": "34d65524-2871-4d45-9037-e6bdec45dad1",
   "metadata": {
    "tags": []
   },
   "source": [
    "#### Some of the popular languages that Data Scientists use are:\n",
    "#### 1. Python\n",
    "#### 2. R\n",
    "#### 3. SQL\n",
    "#### 4. Scala\n",
    "#### 5. Java\n",
    "#### 6. C++\n",
    "#### 7. Julia"
   ]
  },
  {
   "cell_type": "markdown",
   "id": "2c6e9e24-aac1-4d8c-89d1-bf81a94e7855",
   "metadata": {},
   "source": [
    "#### Some of the commonly used libraries used by Data Scientists include:\n",
    "#### 1. **Scientific computing libraries in Python** such as ***Pandas, Numpy***\n",
    "#### 2. **Visualisation libraries in Python** such as ***Matplotlib, Seaborn***\n",
    "#### 3. **High-level machine learning and deep learning libraries** such as ***Scikit-learn, Keras, TensorFlow, Pytorch***\n",
    "#### 4. **Scala libraries** : ***Vegas*** _for statistical data visualization_ , ***Bid DL* _for deep learning_\n",
    "#### 5. **R Libraries** such as ***ggplot2*** _for data visualization in R_."
   ]
  },
  {
   "cell_type": "markdown",
   "id": "652ab268-2eae-47c1-9ac7-bdb48efe79dc",
   "metadata": {
    "tags": []
   },
   "source": [
    "|**Data Tcience Tools**|\n",
    "|-----------------|\n",
    "|**Python**|\n",
    "|**Scala**|\n",
    "|**Java**|"
   ]
  },
  {
   "cell_type": "code",
   "execution_count": null,
   "id": "b1bacfbd-b1ad-461e-a216-4c94459401e8",
   "metadata": {},
   "outputs": [],
   "source": []
  },
  {
   "cell_type": "markdown",
   "id": "d4bf0108-521c-4519-a0e7-23f33e246b17",
   "metadata": {},
   "source": [
    "### Below are a few examples of evaluating arithmetic expressions in Python"
   ]
  },
  {
   "cell_type": "markdown",
   "id": "221b31f3-d81b-4e44-858d-66b22bbbae7b",
   "metadata": {
    "tags": []
   },
   "source": [
    "# This a simple arithmetic expression to mutiply then add integers\n",
    "(3*4)+5"
   ]
  },
  {
   "cell_type": "code",
   "execution_count": 7,
   "id": "caf08464-5b64-48c4-a028-ba00a4c62b9e",
   "metadata": {
    "tags": []
   },
   "outputs": [
    {
     "data": {
      "text/plain": [
       "3.3333333333333335"
      ]
     },
     "execution_count": 7,
     "metadata": {},
     "output_type": "execute_result"
    }
   ],
   "source": [
    "# This will convert 200 minutes to hours by diving by 60\n",
    "200/60"
   ]
  },
  {
   "cell_type": "code",
   "execution_count": null,
   "id": "48080e86-35bb-46de-a239-8c55d6d02f37",
   "metadata": {},
   "outputs": [],
   "source": []
  },
  {
   "cell_type": "markdown",
   "id": "babe6b1e-3e27-462d-89ba-0a5cc6804f84",
   "metadata": {},
   "source": [
    "# **Objectives**\n",
    "- Create markdown cell with title of the notebook\n",
    "- Create a markdown cell to list data science languages\n",
    "- Create a markdown cell with a table of Data Science tools\n",
    "- Create a markdown cell introducing arithmetic expression examples\n",
    "- Create a code cell to multiply and add numbers\n",
    "- Create a code cell to convert minutes to hours\n"
   ]
  },
  {
   "cell_type": "markdown",
   "id": "fd97dbe8-b58a-412b-b74f-7941a1119889",
   "metadata": {},
   "source": [
    "## Author\n",
    "## Kokou AYASSOU"
   ]
  },
  {
   "cell_type": "code",
   "execution_count": null,
   "id": "32a6cce4-66f1-4941-9561-d43f920c4bd7",
   "metadata": {},
   "outputs": [],
   "source": []
  }
 ],
 "metadata": {
  "kernelspec": {
   "display_name": "Python",
   "language": "python",
   "name": "conda-env-python-py"
  },
  "language_info": {
   "codemirror_mode": {
    "name": "ipython",
    "version": 3
   },
   "file_extension": ".py",
   "mimetype": "text/x-python",
   "name": "python",
   "nbconvert_exporter": "python",
   "pygments_lexer": "ipython3",
   "version": "3.7.12"
  }
 },
 "nbformat": 4,
 "nbformat_minor": 5
}
